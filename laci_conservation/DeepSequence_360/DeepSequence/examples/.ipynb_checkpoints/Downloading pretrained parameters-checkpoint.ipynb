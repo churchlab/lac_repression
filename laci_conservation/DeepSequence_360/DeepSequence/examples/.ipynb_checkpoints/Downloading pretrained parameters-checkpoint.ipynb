{
 "cells": [
  {
   "cell_type": "markdown",
   "metadata": {},
   "source": [
    "To walk through the two tutorials describing model outputs and predicting the effects of mutations, we need to fit a model first. This can be done in run_svi.py and run_mle.py . This takes some time to complete, so let's download some pretrained model paramters first to walk through the model if that has not been done.\n",
    "\n",
    "These parameter files can be rather large (and don't fit on Github), so we will provide 3 different protein runs as an example."
   ]
  },
  {
   "cell_type": "markdown",
   "metadata": {},
   "source": [
    "# Automated download"
   ]
  },
  {
   "cell_type": "code",
   "execution_count": null,
   "metadata": {
    "collapsed": false
   },
   "outputs": [],
   "source": [
    "import os\n",
    "\n",
    "# PDZ domain:\n",
    "os.system('curl -L -o ./params/DLG4_RAT_m.pkl https://www.dropbox.com/sh/txbn1zwtzjchqun/DLG4_RAT_m.pkl?dl=1')\n",
    "os.system('curl -L -o ./params/DLG4_RAT_params.pkl https://www.dropbox.com/sh/f55nytgnrqls845/DLG4_RAT_params.pkl?dl=1')\n",
    "os.system('curl -L -o ./params/DLG4_RAT_v.pkl https://www.dropbox.com/sh/b8oaznoimi4398d/DLG4_RAT_v.pkl?dl=1')\n",
    "\n",
    "# B-lactamase\n",
    "os.system('curl -L -o ./params/BLAT_ECOLX_m.pkl https://www.dropbox.com/sh/olnmrwbjc0517uu/BLAT_ECOLX_m.pkl?dl=1')\n",
    "os.system('curl -L -o ./params/BLAT_ECOLX_params.pkl https://www.dropbox.com/sh/nwc0djqood9msrh/BLAT_ECOLX_params.pkl?dl=1')\n",
    "os.system('curl -L -o ./params/BLAT_ECOLX_v.pkl https://www.dropbox.com/sh/ht7nn18onufxq86/BLAT_ECOLX_v.pkl?dl=1')\n",
    "\n",
    "# PABP\n",
    "os.system('curl -L -o ./params/PABP_YEAST_m.pkl https://www.dropbox.com/sh/jv5b6az16atz12p/PABP_YEAST_m.pkl?dl=1')\n",
    "os.system('curl -L -o ./params/PABP_YEAST_params.pkl https://www.dropbox.com/sh/grway9mjjotonhi/PABP_YEAST_params.pkl?dl=1')\n",
    "os.system('curl -L -o ./params/PABP_YEAST_v.pkl https://www.dropbox.com/sh/cc7btgn5vd38c4e/PABP_YEAST_v.pkl?dl=1')"
   ]
  },
  {
   "cell_type": "markdown",
   "metadata": {},
   "source": [
    "# Manual download"
   ]
  },
  {
   "cell_type": "markdown",
   "metadata": {},
   "source": [
    "If this doesn't work, the parameter files can be downloaded from the following links below. They should be placed in the \"params\" folder.\n",
    "\n",
    "PDZ domain:\n",
    "\n",
    "https://www.dropbox.com/s/b8oaznoimi4398d/DLG4_RAT_v.pkl?dl=0\n",
    "\n",
    "https://www.dropbox.com/s/f55nytgnrqls845/DLG4_RAT_params.pkl?dl=0\n",
    "\n",
    "https://www.dropbox.com/s/b8oaznoimi4398d/DLG4_RAT_v.pkl?dl=0\n",
    "\n",
    "B-lactamase:\n",
    "\n",
    "https://www.dropbox.com/s/olnmrwbjc0517uu/BLAT_ECOLX_m.pkl?dl=0\n",
    "\n",
    "https://www.dropbox.com/s/nwc0djqood9msrh/BLAT_ECOLX_params.pkl?dl=0\n",
    "\n",
    "https://www.dropbox.com/s/ht7nn18onufxq86/BLAT_ECOLX_v.pkl?dl=0\n",
    "\n",
    "PABP:\n",
    "\n",
    "https://www.dropbox.com/s/jv5b6az16atz12p/PABP_YEAST_m.pkl?dl=0\n",
    "\n",
    "https://www.dropbox.com/s/grway9mjjotonhi/PABP_YEAST_params.pkl?dl=0\n",
    "\n",
    "https://www.dropbox.com/s/cc7btgn5vd38c4e/PABP_YEAST_v.pkl?dl=0"
   ]
  },
  {
   "cell_type": "code",
   "execution_count": null,
   "metadata": {
    "collapsed": true
   },
   "outputs": [],
   "source": []
  }
 ],
 "metadata": {
  "kernelspec": {
   "display_name": "Python 2",
   "language": "python",
   "name": "python2"
  },
  "language_info": {
   "codemirror_mode": {
    "name": "ipython",
    "version": 2
   },
   "file_extension": ".py",
   "mimetype": "text/x-python",
   "name": "python",
   "nbconvert_exporter": "python",
   "pygments_lexer": "ipython2",
   "version": "2.7.13"
  }
 },
 "nbformat": 4,
 "nbformat_minor": 2
}
