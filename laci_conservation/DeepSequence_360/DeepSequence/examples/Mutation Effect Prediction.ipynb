{
 "cells": [
  {
   "cell_type": "code",
   "execution_count": 1,
   "metadata": {
    "collapsed": true
   },
   "outputs": [],
   "source": [
    "import theano\n",
    "import numpy as np\n",
    "import sys\n",
    "import pandas as pd\n",
    "import scipy\n",
    "from scipy.stats import spearmanr\n",
    "\n",
    "%matplotlib inline\n",
    "import matplotlib.pyplot as plt"
   ]
  },
  {
   "cell_type": "markdown",
   "metadata": {},
   "source": [
    "We will walk through the basic functions of loading up a model and predicting the effects of mutations."
   ]
  },
  {
   "cell_type": "markdown",
   "metadata": {},
   "source": [
    "# Downloading pretrained parameters"
   ]
  },
  {
   "cell_type": "markdown",
   "metadata": {},
   "source": [
    "Please first download the pretrained parameters with download_pretrained.sh. "
   ]
  },
  {
   "cell_type": "markdown",
   "metadata": {},
   "source": [
    "# Loading the model"
   ]
  },
  {
   "cell_type": "code",
   "execution_count": 2,
   "metadata": {
    "collapsed": false
   },
   "outputs": [],
   "source": [
    "sys.path.insert(0, \"../DeepSequence\")\n",
    "\n",
    "import model\n",
    "import helper\n",
    "import train"
   ]
  },
  {
   "cell_type": "markdown",
   "metadata": {},
   "source": [
    "# Mutation effect prediction"
   ]
  },
  {
   "cell_type": "markdown",
   "metadata": {},
   "source": [
    "Mutation effect prediction helper functions are always with respect to the focus sequence of the alignment. We can ask for a prediction of mutation effect individually.\n",
    "\n",
    "For reliable mutation effect prediction results, we recommend taking Monte Carlo 500-2000 samples from the model (with the N_pred_iterations parameter).\n",
    "\n",
    "We can predict the effects of single, double, triple mutants, etc. Mutations are organized as a list of tuples, where the tuples are (uniprot position, wt amino acid, mutant amino acid)."
   ]
  },
  {
   "cell_type": "markdown",
   "metadata": {},
   "source": [
    "# PABP"
   ]
  },
  {
   "cell_type": "markdown",
   "metadata": {},
   "source": [
    "First let's load up a model. We don't have to calculate sequence weights here because we are not training a model and this can be slow on the CPU. \n",
    "\n",
    "In the \"Explore model parameters.ipynb\" notebook, the helper.py code was ammended to prespesify a dataset used for the DataHelper class. However, we can pass in an alignment name and a few more parameters so we don't have to modify the helper.py file."
   ]
  },
  {
   "cell_type": "code",
   "execution_count": 3,
   "metadata": {
    "collapsed": false
   },
   "outputs": [
    {
     "name": "stdout",
     "output_type": "stream",
     "text": [
      "Encoding sequences\n",
      "Neff = 151528.0\n",
      "Data Shape = (151528, 82, 20)\n",
      "Model built\n"
     ]
    }
   ],
   "source": [
    "data_params = {\"alignment_file\":\"datasets/PABP_YEAST_hmmerbit_plmc_n5_m30_f50_t0.2_r115-210_id100_b48.a2m\"}\n",
    "\n",
    "pabp_data_helper = helper.DataHelper(\n",
    "                alignment_file=data_params[\"alignment_file\"],\n",
    "                working_dir=\".\",\n",
    "                calc_weights=False\n",
    "                )\n",
    "\n",
    "model_params = {\n",
    "        \"batch_size\"        :   100,\n",
    "        \"encode_dim_zero\"   :   1500,\n",
    "        \"encode_dim_one\"    :   1500,\n",
    "        \"decode_dim_zero\"   :   100,\n",
    "        \"decode_dim_one\"    :   500,\n",
    "        \"n_patterns\"        :   4,\n",
    "        \"n_latent\"          :   30,\n",
    "        \"logit_p\"           :   0.001,\n",
    "        \"sparsity\"          :   \"logit\",\n",
    "        \"encode_nonlin\"     :   \"relu\",\n",
    "        \"decode_nonlin\"     :   \"relu\",\n",
    "        \"final_decode_nonlin\":  \"sigmoid\",\n",
    "        \"output_bias\"       :   True,\n",
    "        \"final_pwm_scale\"   :   True,\n",
    "        \"conv_pat\"          :   True,\n",
    "        \"d_c_size\"          :   40\n",
    "        }\n",
    "\n",
    "pabp_vae_model   = model.VariationalAutoencoder(pabp_data_helper,\n",
    "    batch_size              =   model_params[\"batch_size\"],\n",
    "    encoder_architecture    =   [model_params[\"encode_dim_zero\"],\n",
    "                                model_params[\"encode_dim_one\"]],\n",
    "    decoder_architecture    =   [model_params[\"decode_dim_zero\"],\n",
    "                                model_params[\"decode_dim_one\"]],\n",
    "    n_latent                =   model_params[\"n_latent\"],\n",
    "    n_patterns              =   model_params[\"n_patterns\"],\n",
    "    convolve_patterns       =   model_params[\"conv_pat\"],\n",
    "    conv_decoder_size       =   model_params[\"d_c_size\"],\n",
    "    logit_p                 =   model_params[\"logit_p\"],\n",
    "    sparsity                =   model_params[\"sparsity\"],\n",
    "    encode_nonlinearity_type       =   model_params[\"encode_nonlin\"],\n",
    "    decode_nonlinearity_type       =   model_params[\"decode_nonlin\"],\n",
    "    final_decode_nonlinearity      =   model_params[\"final_decode_nonlin\"],\n",
    "    output_bias             =   model_params[\"output_bias\"],\n",
    "    final_pwm_scale         =   model_params[\"final_pwm_scale\"],\n",
    "    working_dir             =   \".\")\n",
    "\n",
    "print (\"Model built\")"
   ]
  },
  {
   "cell_type": "markdown",
   "metadata": {},
   "source": [
    "Load up the parameters of a pretrained model in the 'params' folder."
   ]
  },
  {
   "cell_type": "code",
   "execution_count": 4,
   "metadata": {
    "collapsed": false
   },
   "outputs": [
    {
     "name": "stdout",
     "output_type": "stream",
     "text": [
      "Parameters loaded\n"
     ]
    }
   ],
   "source": [
    "file_prefix = \"PABP_YEAST\"\n",
    "pabp_vae_model.load_parameters(file_prefix=file_prefix)\n",
    "print (\"Parameters loaded\")"
   ]
  },
  {
   "cell_type": "code",
   "execution_count": 6,
   "metadata": {
    "collapsed": false
   },
   "outputs": [
    {
     "name": "stdout",
     "output_type": "stream",
     "text": [
      "-2.03463650668\n"
     ]
    }
   ],
   "source": [
    "print (pabp_data_helper.delta_elbo(pabp_vae_model,[(126,\"G\",\"A\")], N_pred_iterations=500))"
   ]
  },
  {
   "cell_type": "code",
   "execution_count": 7,
   "metadata": {
    "collapsed": false
   },
   "outputs": [
    {
     "name": "stdout",
     "output_type": "stream",
     "text": [
      "-10.8308351474\n"
     ]
    }
   ],
   "source": [
    "print (pabp_data_helper.delta_elbo(pabp_vae_model,[(126,\"G\",\"A\"), (137,\"I\",\"P\")], N_pred_iterations=500))"
   ]
  },
  {
   "cell_type": "code",
   "execution_count": 8,
   "metadata": {
    "collapsed": false
   },
   "outputs": [
    {
     "name": "stdout",
     "output_type": "stream",
     "text": [
      "-16.058655309\n"
     ]
    }
   ],
   "source": [
    "print (pabp_data_helper.delta_elbo(pabp_vae_model,[(126,\"G\",\"A\"), (137,\"I\",\"P\"), (155,\"S\",\"A\")], N_pred_iterations=500))"
   ]
  },
  {
   "cell_type": "markdown",
   "metadata": {},
   "source": [
    "We can predict the effects of mutations for all single mutations. This and the below function are preferred because they can take advantages of speed-ups from minibatching the mutation data."
   ]
  },
  {
   "cell_type": "code",
   "execution_count": 9,
   "metadata": {
    "collapsed": true
   },
   "outputs": [],
   "source": [
    "pabp_full_matr_mutant_name_list, pabp_full_matr_delta_elbos \\\n",
    "    = pabp_data_helper.single_mutant_matrix(pabp_vae_model, N_pred_iterations=500)"
   ]
  },
  {
   "cell_type": "code",
   "execution_count": 10,
   "metadata": {
    "collapsed": false
   },
   "outputs": [
    {
     "name": "stdout",
     "output_type": "stream",
     "text": [
      "('K123A', 0.5887526915685584)\n"
     ]
    }
   ],
   "source": [
    "print (pabp_full_matr_mutant_name_list[0], pabp_full_matr_delta_elbos[0])"
   ]
  },
  {
   "cell_type": "markdown",
   "metadata": {},
   "source": [
    "We can also predict the effect of mutations from a file in batched mode."
   ]
  },
  {
   "cell_type": "code",
   "execution_count": 11,
   "metadata": {
    "collapsed": false
   },
   "outputs": [
    {
     "name": "stdout",
     "output_type": "stream",
     "text": [
      "('N127D', -6.426795215037501)\n"
     ]
    }
   ],
   "source": [
    "pabp_custom_matr_mutant_name_list, pabp_custom_matr_delta_elbos \\\n",
    "    = pabp_data_helper.custom_mutant_matrix(\"mutations/PABP_YEAST_Fields2013-singles.csv\", \\\n",
    "                                            pabp_vae_model, N_pred_iterations=500)\n",
    "    \n",
    "print (pabp_custom_matr_mutant_name_list[12], pabp_custom_matr_delta_elbos[12])"
   ]
  },
  {
   "cell_type": "markdown",
   "metadata": {},
   "source": [
    "Let's also make a quick function to calculate the spearman rho from a mutation file."
   ]
  },
  {
   "cell_type": "code",
   "execution_count": 12,
   "metadata": {
    "collapsed": false
   },
   "outputs": [],
   "source": [
    "def generate_spearmanr(mutant_name_list, delta_elbo_list, mutation_filename, phenotype_name):\n",
    "    \n",
    "    measurement_df = pd.read_csv(mutation_filename, sep=',')\n",
    "\n",
    "    mutant_list = measurement_df.mutant.tolist()\n",
    "    expr_values_ref_list = measurement_df[phenotype_name].tolist()\n",
    "\n",
    "    mutant_name_to_pred = {mutant_name_list[i]:delta_elbo_list[i] for i in range(len(delta_elbo_list))}\n",
    "    \n",
    "    # If there are measurements \n",
    "    wt_list = []\n",
    "    preds_for_spearmanr = []\n",
    "    measurements_for_spearmanr = []\n",
    "    \n",
    "    for i,mutant_name in enumerate(mutant_list):\n",
    "        expr_val = expr_values_ref_list[i]\n",
    "        \n",
    "        # Make sure we have made a prediction for that mutant\n",
    "        if mutant_name in mutant_name_to_pred:\n",
    "            multi_mut_name_list = mutant_name.split(':')\n",
    "        \n",
    "            # If there is no measurement for that mutant, pass over it\n",
    "            if np.isnan(expr_val):\n",
    "                pass\n",
    "\n",
    "            # If it was a codon change, add it to the wt vals to average\n",
    "            elif mutant_name[0] == mutant_name[-1] and len(multi_mut_name_list) == 1:\n",
    "                wt_list.append(expr_values_ref_list[i])\n",
    "\n",
    "            # If it is labeled as the wt sequence, add it to the average list\n",
    "            elif mutant_name == 'wt' or mutant_name == 'WT':\n",
    "                wt_list.append(expr_values_ref_list[i])\n",
    "\n",
    "            else:\n",
    "                measurements_for_spearmanr.append(expr_val)\n",
    "                preds_for_spearmanr.append(mutant_name_to_pred[mutant_name])\n",
    "\n",
    "    if wt_list != []:\n",
    "        measurements_for_spearmanr.append(np.mean(average_wt_list))\n",
    "        preds_for_spearmanr.append(0.0)\n",
    "\n",
    "    num_data = len(measurements_for_spearmanr)\n",
    "    spearman_r, spearman_pval = spearmanr(measurements_for_spearmanr, preds_for_spearmanr)\n",
    "    print (\"N: \"+str(num_data)+\", Spearmanr: \"+str(spearman_r)+\", p-val: \"+str(spearman_pval))"
   ]
  },
  {
   "cell_type": "code",
   "execution_count": 13,
   "metadata": {
    "collapsed": false
   },
   "outputs": [
    {
     "name": "stdout",
     "output_type": "stream",
     "text": [
      "N: 1188, Spearmanr: 0.6509305755221257, p-val: 4.0800344026520655e-144\n"
     ]
    }
   ],
   "source": [
    "generate_spearmanr(pabp_custom_matr_mutant_name_list, pabp_custom_matr_delta_elbos, \\\n",
    "                   \"mutations/PABP_YEAST_Fields2013-singles.csv\", \"log\")"
   ]
  },
  {
   "cell_type": "markdown",
   "metadata": {},
   "source": [
    "# PDZ"
   ]
  },
  {
   "cell_type": "code",
   "execution_count": 19,
   "metadata": {
    "collapsed": false
   },
   "outputs": [
    {
     "name": "stdout",
     "output_type": "stream",
     "text": [
      "Encoding sequences\n",
      "Neff = 102246.0\n",
      "Data Shape = (102246, 84, 20)\n",
      "Model built\n",
      "Parameters loaded\n",
      "\n",
      "\n",
      "N: 1577, Spearmanr: 0.6199244929585085, p-val: 4.31636475994128e-168\n"
     ]
    }
   ],
   "source": [
    "data_params = {\"alignment_file\":\"datasets/DLG4_RAT_hmmerbit_plmc_n5_m30_f50_t0.2_r300-400_id100_b50.a2m\"}\n",
    "\n",
    "pdz_data_helper = helper.DataHelper(\n",
    "                alignment_file=data_params[\"alignment_file\"],\n",
    "                working_dir=\".\",\n",
    "                calc_weights=False\n",
    "                )\n",
    "\n",
    "pdz_vae_model   = model.VariationalAutoencoder(pdz_data_helper,\n",
    "    batch_size              =   model_params[\"batch_size\"],\n",
    "    encoder_architecture    =   [model_params[\"encode_dim_zero\"],\n",
    "                                model_params[\"encode_dim_one\"]],\n",
    "    decoder_architecture    =   [model_params[\"decode_dim_zero\"],\n",
    "                                model_params[\"decode_dim_one\"]],\n",
    "    n_latent                =   model_params[\"n_latent\"],\n",
    "    n_patterns              =   model_params[\"n_patterns\"],\n",
    "    convolve_patterns       =   model_params[\"conv_pat\"],\n",
    "    conv_decoder_size       =   model_params[\"d_c_size\"],\n",
    "    logit_p                 =   model_params[\"logit_p\"],\n",
    "    sparsity                =   model_params[\"sparsity\"],\n",
    "    encode_nonlinearity_type       =   model_params[\"encode_nonlin\"],\n",
    "    decode_nonlinearity_type       =   model_params[\"decode_nonlin\"],\n",
    "    final_decode_nonlinearity      =   model_params[\"final_decode_nonlin\"],\n",
    "    output_bias             =   model_params[\"output_bias\"],\n",
    "    final_pwm_scale         =   model_params[\"final_pwm_scale\"],\n",
    "    working_dir             =   \".\")\n",
    "\n",
    "print (\"Model built\")\n",
    "\n",
    "file_prefix = \"DLG4_RAT\"\n",
    "pdz_vae_model.load_parameters(file_prefix=file_prefix)\n",
    "\n",
    "print (\"Parameters loaded\\n\\n\")\n",
    "\n",
    "pdz_custom_matr_mutant_name_list, pdz_custom_matr_delta_elbos \\\n",
    "    = pdz_data_helper.custom_mutant_matrix(\"mutations/DLG4_RAT_Ranganathan2012.csv\", \\\n",
    "                                            pdz_vae_model, N_pred_iterations=500)\n",
    "  \n",
    "generate_spearmanr(pdz_custom_matr_mutant_name_list, pdz_custom_matr_delta_elbos, \\\n",
    "                   \"mutations/DLG4_RAT_Ranganathan2012.csv\", \"CRIPT\")"
   ]
  },
  {
   "cell_type": "markdown",
   "metadata": {},
   "source": [
    "# B-lactamase"
   ]
  },
  {
   "cell_type": "markdown",
   "metadata": {},
   "source": [
    "Larger proteins with more mutations to predict can take much longer to run. For these, we recommend GPU-enabled computation."
   ]
  },
  {
   "cell_type": "code",
   "execution_count": 27,
   "metadata": {
    "collapsed": false
   },
   "outputs": [
    {
     "name": "stdout",
     "output_type": "stream",
     "text": [
      "Encoding sequences\n",
      "Neff = 8355.0\n",
      "Data Shape = (8355, 253, 20)\n",
      "Model built\n",
      "Parameters loaded\n",
      "\n",
      "\n",
      "N: 4807, Spearmanr: 0.743886370415797, p-val: 0.0\n"
     ]
    }
   ],
   "source": [
    "data_params = {\"dataset\":\"BLAT_ECOLX\"}\n",
    "\n",
    "blat_data_helper = helper.DataHelper(\n",
    "                dataset=data_params[\"dataset\"],\n",
    "                working_dir=\".\",\n",
    "                calc_weights=False\n",
    "                )\n",
    "\n",
    "blat_vae_model   = model.VariationalAutoencoder(blat_data_helper,\n",
    "    batch_size              =   model_params[\"batch_size\"],\n",
    "    encoder_architecture    =   [model_params[\"encode_dim_zero\"],\n",
    "                                model_params[\"encode_dim_one\"]],\n",
    "    decoder_architecture    =   [model_params[\"decode_dim_zero\"],\n",
    "                                model_params[\"decode_dim_one\"]],\n",
    "    n_latent                =   model_params[\"n_latent\"],\n",
    "    n_patterns              =   model_params[\"n_patterns\"],\n",
    "    convolve_patterns       =   model_params[\"conv_pat\"],\n",
    "    conv_decoder_size       =   model_params[\"d_c_size\"],\n",
    "    logit_p                 =   model_params[\"logit_p\"],\n",
    "    sparsity                =   model_params[\"sparsity\"],\n",
    "    encode_nonlinearity_type       =   model_params[\"encode_nonlin\"],\n",
    "    decode_nonlinearity_type       =   model_params[\"decode_nonlin\"],\n",
    "    final_decode_nonlinearity      =   model_params[\"final_decode_nonlin\"],\n",
    "    output_bias             =   model_params[\"output_bias\"],\n",
    "    final_pwm_scale         =   model_params[\"final_pwm_scale\"],\n",
    "    working_dir             =   \".\")\n",
    "\n",
    "print (\"Model built\")\n",
    "\n",
    "file_prefix = \"BLAT_ECOLX\"\n",
    "blat_vae_model.load_parameters(file_prefix=file_prefix)\n",
    "\n",
    "print (\"Parameters loaded\\n\\n\")\n",
    "\n",
    "blat_custom_matr_mutant_name_list, blat_custom_matr_delta_elbos \\\n",
    "    = blat_data_helper.custom_mutant_matrix(\"mutations/BLAT_ECOLX_Ranganathan2015.csv\", \\\n",
    "                                            blat_vae_model, N_pred_iterations=500)\n",
    "    \n",
    "generate_spearmanr(blat_custom_matr_mutant_name_list, blat_custom_matr_delta_elbos, \\\n",
    "                   \"mutations/BLAT_ECOLX_Ranganathan2015.csv\", \"2500\")"
   ]
  },
  {
   "cell_type": "code",
   "execution_count": null,
   "metadata": {
    "collapsed": true
   },
   "outputs": [],
   "source": []
  }
 ],
 "metadata": {
  "kernelspec": {
   "display_name": "Python 2",
   "language": "python",
   "name": "python2"
  },
  "language_info": {
   "codemirror_mode": {
    "name": "ipython",
    "version": 2
   },
   "file_extension": ".py",
   "mimetype": "text/x-python",
   "name": "python",
   "nbconvert_exporter": "python",
   "pygments_lexer": "ipython2",
   "version": "2.7.13"
  }
 },
 "nbformat": 4,
 "nbformat_minor": 2
}
