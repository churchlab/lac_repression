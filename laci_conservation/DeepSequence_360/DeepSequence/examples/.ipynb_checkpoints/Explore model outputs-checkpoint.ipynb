{
 "cells": [
  {
   "cell_type": "code",
   "execution_count": 10,
   "metadata": {
    "collapsed": true
   },
   "outputs": [],
   "source": [
    "import theano\n",
    "import numpy as np\n",
    "import sys\n",
    "\n",
    "%matplotlib inline\n",
    "import matplotlib.pyplot as plt"
   ]
  },
  {
   "cell_type": "markdown",
   "metadata": {},
   "source": [
    "We will walk through the basic functions of loading up a model, obtaining the latent variables for sequences in the dataset, and generating sequences from latent variables. Since model training is computationally expensive and is best suited for a GPU-enabled compute cluster, executables for the SVI and MLE version of the code are available."
   ]
  },
  {
   "cell_type": "markdown",
   "metadata": {},
   "source": [
    "# Downloading pretrained parameters"
   ]
  },
  {
   "cell_type": "markdown",
   "metadata": {},
   "source": [
    "Please first download the pretrained parameters in the \"Downloading pretrained parameters.ipynb\" notebook. "
   ]
  },
  {
   "cell_type": "markdown",
   "metadata": {},
   "source": [
    "# Loading the model"
   ]
  },
  {
   "cell_type": "code",
   "execution_count": 11,
   "metadata": {
    "collapsed": false
   },
   "outputs": [],
   "source": [
    "sys.path.insert(0, \"../DeepSequence\")\n",
    "\n",
    "import model\n",
    "import helper\n",
    "import train"
   ]
  },
  {
   "cell_type": "markdown",
   "metadata": {},
   "source": [
    "First let's load up a model. We don't have to calculate sequence weights here because we are not training a model and this can be slow on the CPU. "
   ]
  },
  {
   "cell_type": "code",
   "execution_count": 12,
   "metadata": {
    "collapsed": false
   },
   "outputs": [
    {
     "name": "stdout",
     "output_type": "stream",
     "text": [
      "Encoding sequences\n",
      "Neff = 8355.0\n",
      "Data Shape = (8355, 253, 20)\n",
      "Model built\n"
     ]
    }
   ],
   "source": [
    "data_params = {\"dataset\":\"BLAT_ECOLX\"}\n",
    "\n",
    "data_helper = helper.DataHelper(\n",
    "                dataset=data_params[\"dataset\"],\n",
    "                working_dir=\".\",\n",
    "                calc_weights=False\n",
    "                )\n",
    "\n",
    "model_params = {\n",
    "        \"batch_size\"        :   100,\n",
    "        \"encode_dim_zero\"   :   1500,\n",
    "        \"encode_dim_one\"    :   1500,\n",
    "        \"decode_dim_zero\"   :   100,\n",
    "        \"decode_dim_one\"    :   500,\n",
    "        \"n_patterns\"        :   4,\n",
    "        \"n_latent\"          :   30,\n",
    "        \"logit_p\"           :   0.001,\n",
    "        \"sparsity\"          :   \"logit\",\n",
    "        \"encode_nonlin\"     :   \"relu\",\n",
    "        \"decode_nonlin\"     :   \"relu\",\n",
    "        \"final_decode_nonlin\":  \"sigmoid\",\n",
    "        \"output_bias\"       :   True,\n",
    "        \"final_pwm_scale\"   :   True,\n",
    "        \"conv_pat\"          :   True,\n",
    "        \"d_c_size\"          :   40\n",
    "        }\n",
    "\n",
    "vae_model   = model.VariationalAutoencoder(data_helper,\n",
    "    batch_size              =   model_params[\"batch_size\"],\n",
    "    encoder_architecture    =   [model_params[\"encode_dim_zero\"],\n",
    "                                model_params[\"encode_dim_one\"]],\n",
    "    decoder_architecture    =   [model_params[\"decode_dim_zero\"],\n",
    "                                model_params[\"decode_dim_one\"]],\n",
    "    n_latent                =   model_params[\"n_latent\"],\n",
    "    n_patterns              =   model_params[\"n_patterns\"],\n",
    "    convolve_patterns       =   model_params[\"conv_pat\"],\n",
    "    conv_decoder_size       =   model_params[\"d_c_size\"],\n",
    "    logit_p                 =   model_params[\"logit_p\"],\n",
    "    sparsity                =   model_params[\"sparsity\"],\n",
    "    encode_nonlinearity_type       =   model_params[\"encode_nonlin\"],\n",
    "    decode_nonlinearity_type       =   model_params[\"decode_nonlin\"],\n",
    "    final_decode_nonlinearity      =   model_params[\"final_decode_nonlin\"],\n",
    "    output_bias             =   model_params[\"output_bias\"],\n",
    "    final_pwm_scale         =   model_params[\"final_pwm_scale\"],\n",
    "    working_dir             =   \".\")\n",
    "\n",
    "print (\"Model built\")"
   ]
  },
  {
   "cell_type": "markdown",
   "metadata": {},
   "source": [
    "Load up the parameters of a pretrained model in the 'params' folder."
   ]
  },
  {
   "cell_type": "code",
   "execution_count": 13,
   "metadata": {
    "collapsed": false
   },
   "outputs": [
    {
     "name": "stdout",
     "output_type": "stream",
     "text": [
      "Parameters loaded\n"
     ]
    }
   ],
   "source": [
    "file_prefix = \"BLAT_ECOLX\"\n",
    "\n",
    "vae_model.load_parameters(file_prefix=file_prefix)\n",
    "\n",
    "print (\"Parameters loaded\")"
   ]
  },
  {
   "cell_type": "markdown",
   "metadata": {},
   "source": [
    "Print the name, location, and sequence of the focus sequence of the alignment:"
   ]
  },
  {
   "cell_type": "code",
   "execution_count": 14,
   "metadata": {
    "collapsed": false
   },
   "outputs": [
    {
     "name": "stdout",
     "output_type": "stream",
     "text": [
      ">BLAT_ECOLX/24-286\n",
      "24-286\n",
      "hpetlVKVKDAEDQLGARVGYIELDLNSGKILeSFRPEERFPMMSTFKVLLCGAVLSRVDAGQEQLGRRIHYSQNDLVEYSPVTEKHLTDGMTVRELCSAAITMSDNTAANLLLTTIGGPKELTAFLHNMGDHVTRLDRWEPELNEAIPNDERDTTMPAAMATTLRKLLTGELLTLASRQQLIDWMEADKVAGPLLRSALPAGWFIADKSGAGErGSRGIIAALGPDGKPSRIVVIYTTGSQATMDERNRQIAEIGASLIkhw\n"
     ]
    }
   ],
   "source": [
    "print (data_helper.focus_seq_name)\n",
    "print (str(data_helper.focus_start_loc)+\"-\"+str(data_helper.focus_stop_loc))\n",
    "print (data_helper.focus_seq)"
   ]
  },
  {
   "cell_type": "markdown",
   "metadata": {},
   "source": [
    "However, we remove lowercase letters from the focus sequences before training because columns of the alignment in those positions have little amino acid coverage in them:"
   ]
  },
  {
   "cell_type": "code",
   "execution_count": 15,
   "metadata": {
    "collapsed": false
   },
   "outputs": [
    {
     "name": "stdout",
     "output_type": "stream",
     "text": [
      "VKVKDAEDQLGARVGYIELDLNSGKILSFRPEERFPMMSTFKVLLCGAVLSRVDAGQEQLGRRIHYSQNDLVEYSPVTEKHLTDGMTVRELCSAAITMSDNTAANLLLTTIGGPKELTAFLHNMGDHVTRLDRWEPELNEAIPNDERDTTMPAAMATTLRKLLTGELLTLASRQQLIDWMEADKVAGPLLRSALPAGWFIADKSGAGEGSRGIIAALGPDGKPSRIVVIYTTGSQATMDERNRQIAEIGASLI\n"
     ]
    }
   ],
   "source": [
    "print (\"\".join(data_helper.focus_seq_trimmed))"
   ]
  },
  {
   "cell_type": "markdown",
   "metadata": {},
   "source": [
    "# Model functions"
   ]
  },
  {
   "cell_type": "markdown",
   "metadata": {},
   "source": [
    "Let's get the latent variables for that sequence of the model. This model has a 30 dimensional latent representation whose prior is a diagonal Gaussian."
   ]
  },
  {
   "cell_type": "code",
   "execution_count": 16,
   "metadata": {
    "collapsed": false
   },
   "outputs": [
    {
     "name": "stdout",
     "output_type": "stream",
     "text": [
      "mu:\n",
      "[-2.93129622e-02  2.80484591e-02  4.74045508e-02  2.08589889e-02\n",
      " -1.58986675e-02 -1.26072732e+00 -1.66292705e-02  1.40488074e+00\n",
      "  1.67025877e-02 -8.53566889e-03  2.18774280e-02  2.32125783e+00\n",
      "  2.55409795e-02 -1.15651891e-02 -3.02552657e-02  1.24139726e-02\n",
      " -4.12962164e-02 -8.41912007e-01 -5.99993306e-03  1.61336532e-03\n",
      "  6.03782405e-01  3.46253082e-02  2.27598501e-02 -2.05355599e-02\n",
      "  3.94717697e-03  1.35123502e+00  8.65776037e-03 -7.57649777e-03\n",
      "  3.81364257e-02 -2.08573404e-02]\n",
      "\n",
      "log sigma:\n",
      "[-4.22987289e-04 -1.84314600e-02 -4.19494449e-02 -3.17123838e-02\n",
      " -1.67881093e-02 -2.28357830e+00 -5.77861108e-02 -9.92522460e-01\n",
      " -3.17816964e-02 -1.74817094e-02 -4.95498244e-02 -1.99601526e+00\n",
      " -2.00790022e-02  2.04198661e-02 -1.36289102e-02 -6.93278173e-03\n",
      " -2.53706808e-02 -1.90622283e+00 -2.70597848e-02 -1.67551476e-02\n",
      " -2.16649542e+00  1.02254690e-02  8.96915176e-03 -1.85787921e-02\n",
      "  2.56248426e-02 -2.42973459e+00 -3.70118837e-02  1.25962615e-02\n",
      "  2.43832070e-02 -6.73871211e-03]\n"
     ]
    }
   ],
   "source": [
    "focus_seq_one_hot = np.expand_dims(data_helper.one_hot_3D(data_helper.focus_seq_trimmed),axis=0)\n",
    "mu_blat, log_sigma_blat = vae_model.recognize(focus_seq_one_hot)\n",
    "print (\"mu:\")\n",
    "print (mu_blat[0])\n",
    "print (\"\\nlog sigma:\")\n",
    "print (log_sigma_blat[0])"
   ]
  },
  {
   "cell_type": "markdown",
   "metadata": {},
   "source": [
    "We can also sample from this model:"
   ]
  },
  {
   "cell_type": "code",
   "execution_count": 17,
   "metadata": {
    "collapsed": false
   },
   "outputs": [
    {
     "name": "stdout",
     "output_type": "stream",
     "text": [
      "z:\n",
      "[ 1.226298   -0.50005774 -0.05264941  0.66986938 -0.71224884 -1.15921493\n",
      "  0.05177535  1.1583736   0.92446647 -0.14730169  0.78172059  2.35628846\n",
      "  1.32076451  1.1621947  -0.12593087 -0.49765921  0.55820479 -0.84410041\n",
      " -1.94164654  1.19722414  0.51352968  0.23148123  0.56776408 -0.36881278\n",
      " -0.590448    1.50986844  0.68191917 -1.4255378  -0.08560662  1.08017904]\n"
     ]
    }
   ],
   "source": [
    "z_blat = vae_model.encode(focus_seq_one_hot)\n",
    "print (\"z:\")\n",
    "print (z_blat[0])"
   ]
  },
  {
   "cell_type": "markdown",
   "metadata": {},
   "source": [
    "And then generate a sample distribution around that sequence via the sampled latent variable."
   ]
  },
  {
   "cell_type": "code",
   "execution_count": 18,
   "metadata": {
    "collapsed": false
   },
   "outputs": [
    {
     "data": {
      "image/png": "[encoded data removed]",
      "text/plain": [
       "<matplotlib.figure.Figure at 0x15076acd0>"
      ]
     },
     "metadata": {},
     "output_type": "display_data"
    }
   ],
   "source": [
    "seq_reconstruct = vae_model.decode(z_blat)\n",
    "plt.figure(figsize=(35,10))\n",
    "plt.imshow(seq_reconstruct[0].T,cmap=plt.get_cmap(\"Blues\"))\n",
    "ax = plt.gca()\n",
    "ax.set_yticks(np.arange(len(data_helper.alphabet)))\n",
    "ax.set_yticklabels(list(data_helper.alphabet))\n",
    "plt.show()"
   ]
  },
  {
   "cell_type": "code",
   "execution_count": null,
   "metadata": {
    "collapsed": true
   },
   "outputs": [],
   "source": []
  }
 ],
 "metadata": {
  "kernelspec": {
   "display_name": "Python 2",
   "language": "python",
   "name": "python2"
  },
  "language_info": {
   "codemirror_mode": {
    "name": "ipython",
    "version": 2
   },
   "file_extension": ".py",
   "mimetype": "text/x-python",
   "name": "python",
   "nbconvert_exporter": "python",
   "pygments_lexer": "ipython2",
   "version": "2.7.13"
  }
 },
 "nbformat": 4,
 "nbformat_minor": 2
}
